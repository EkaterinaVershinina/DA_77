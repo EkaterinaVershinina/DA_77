{
 "cells": [
  {
   "cell_type": "markdown",
   "id": "8286310c-57fc-41d3-9249-a0834ab229bd",
   "metadata": {},
   "source": [
    "## Проект по SQL"
   ]
  },
  {
   "cell_type": "markdown",
   "id": "ce3fb95f-06b3-485c-a0c1-1851e617748a",
   "metadata": {},
   "source": [
    "**Описание проекта:**\n",
    "\n",
    "Коронавирус застал мир врасплох, изменив привычный порядок вещей. В свободное время жители городов больше не выходят на улицу, не посещают кафе и торговые центры. Зато стало больше времени для книг. Это заметили стартаперы — и бросились создавать приложения для тех, кто любит читать.\n",
    "Ваша компания решила быть на волне и купила крупный сервис для чтения книг по подписке. Ваша первая задача как аналитика — проанализировать базу данных.\n",
    "В ней — информация о книгах, издательствах, авторах, а также пользовательские обзоры книг. Эти данные помогут сформулировать ценностное предложение для нового продукта.\n",
    "\n",
    "**Цель проекта:**\n",
    "\n",
    "   - Проанализировать базу данных;\n",
    "   - Сформулировать ценностное предложение для нового продукта."
   ]
  },
  {
   "cell_type": "code",
   "execution_count": 1,
   "id": "053b6be5",
   "metadata": {},
   "outputs": [],
   "source": [
    "# импортируем библиотеки\n",
    "import pandas as pd\n",
    "from sqlalchemy import text, create_engine"
   ]
  },
  {
   "cell_type": "code",
   "execution_count": 2,
   "id": "59015681-6445-41df-8c04-d4b4dc6b922f",
   "metadata": {},
   "outputs": [
    {
     "data": {
      "text/html": [
       "<div>\n",
       "<style scoped>\n",
       "    .dataframe tbody tr th:only-of-type {\n",
       "        vertical-align: middle;\n",
       "    }\n",
       "\n",
       "    .dataframe tbody tr th {\n",
       "        vertical-align: top;\n",
       "    }\n",
       "\n",
       "    .dataframe thead th {\n",
       "        text-align: right;\n",
       "    }\n",
       "</style>\n",
       "<table border=\"1\" class=\"dataframe\">\n",
       "  <thead>\n",
       "    <tr style=\"text-align: right;\">\n",
       "      <th></th>\n",
       "      <th>book_id</th>\n",
       "      <th>author_id</th>\n",
       "      <th>title</th>\n",
       "      <th>num_pages</th>\n",
       "      <th>publication_date</th>\n",
       "      <th>publisher_id</th>\n",
       "    </tr>\n",
       "  </thead>\n",
       "  <tbody>\n",
       "    <tr>\n",
       "      <th>0</th>\n",
       "      <td>1</td>\n",
       "      <td>546</td>\n",
       "      <td>'Salem's Lot</td>\n",
       "      <td>594</td>\n",
       "      <td>2005-11-01</td>\n",
       "      <td>93</td>\n",
       "    </tr>\n",
       "    <tr>\n",
       "      <th>1</th>\n",
       "      <td>2</td>\n",
       "      <td>465</td>\n",
       "      <td>1 000 Places to See Before You Die</td>\n",
       "      <td>992</td>\n",
       "      <td>2003-05-22</td>\n",
       "      <td>336</td>\n",
       "    </tr>\n",
       "    <tr>\n",
       "      <th>2</th>\n",
       "      <td>3</td>\n",
       "      <td>407</td>\n",
       "      <td>13 Little Blue Envelopes (Little Blue Envelope...</td>\n",
       "      <td>322</td>\n",
       "      <td>2010-12-21</td>\n",
       "      <td>135</td>\n",
       "    </tr>\n",
       "    <tr>\n",
       "      <th>3</th>\n",
       "      <td>4</td>\n",
       "      <td>82</td>\n",
       "      <td>1491: New Revelations of the Americas Before C...</td>\n",
       "      <td>541</td>\n",
       "      <td>2006-10-10</td>\n",
       "      <td>309</td>\n",
       "    </tr>\n",
       "    <tr>\n",
       "      <th>4</th>\n",
       "      <td>5</td>\n",
       "      <td>125</td>\n",
       "      <td>1776</td>\n",
       "      <td>386</td>\n",
       "      <td>2006-07-04</td>\n",
       "      <td>268</td>\n",
       "    </tr>\n",
       "  </tbody>\n",
       "</table>\n",
       "</div>"
      ],
      "text/plain": [
       "   book_id  author_id                                              title  \\\n",
       "0        1        546                                       'Salem's Lot   \n",
       "1        2        465                 1 000 Places to See Before You Die   \n",
       "2        3        407  13 Little Blue Envelopes (Little Blue Envelope...   \n",
       "3        4         82  1491: New Revelations of the Americas Before C...   \n",
       "4        5        125                                               1776   \n",
       "\n",
       "   num_pages publication_date  publisher_id  \n",
       "0        594       2005-11-01            93  \n",
       "1        992       2003-05-22           336  \n",
       "2        322       2010-12-21           135  \n",
       "3        541       2006-10-10           309  \n",
       "4        386       2006-07-04           268  "
      ]
     },
     "execution_count": 2,
     "metadata": {},
     "output_type": "execute_result"
    }
   ],
   "source": [
    "# устанавливаем параметры\n",
    "db_config = {'user': 'praktikum_student', # имя пользователя\n",
    "'pwd': 'Sdf4$2;d-d30pp', # пароль\n",
    "'host': 'rc1b-wcoijxj3yxfsf3fs.mdb.yandexcloud.net',\n",
    "'port': 6432, # порт подключения\n",
    "'db': 'data-analyst-final-project-db'} # название базы данных\n",
    "connection_string = 'postgresql://{user}:{pwd}@{host}:{port}/{db}'.format(**db_config)\n",
    "\n",
    "# сохраняем коннектор\n",
    "engine = create_engine(connection_string, connect_args={'sslmode':'require'})\n",
    "\n",
    "# чтобы выполнить SQL-запрос, используем Pandas\n",
    "query = '''SELECT * FROM books LIMIT 5'''\n",
    "con=engine.connect()\n",
    "pd.io.sql.read_sql(sql=text(query), con = con)"
   ]
  },
  {
   "cell_type": "markdown",
   "id": "d99a6f07-b4b9-437f-80a7-db7c2df9fb7b",
   "metadata": {},
   "source": [
    "### Исследуйте таблицы"
   ]
  },
  {
   "cell_type": "code",
   "execution_count": 3,
   "id": "ab8ddfd8-638e-43de-9598-e0a1709026a3",
   "metadata": {},
   "outputs": [],
   "source": [
    "query_books = '''SELECT * FROM books;'''\n",
    "books = pd.io.sql.read_sql(query_books, con = engine)\n",
    "\n",
    "query_authors = '''SELECT * FROM authors;'''\n",
    "author = pd.io.sql.read_sql(query_authors, con = engine)\n",
    "\n",
    "query_ratings = '''SELECT * FROM ratings'''\n",
    "ratings = pd.io.sql.read_sql(query_ratings, con = engine)\n",
    "\n",
    "query_reviews = '''SELECT * FROM reviews'''\n",
    "reviews = pd.io.sql.read_sql(query_reviews, con=engine)\n",
    "\n",
    "query_publishers = '''SELECT * FROM publishers'''\n",
    "publishers = pd.io.sql.read_sql(query_publishers, con = engine)"
   ]
  },
  {
   "cell_type": "code",
   "execution_count": 4,
   "id": "3880106d-c9b5-447b-9af5-d2f35ec99c8d",
   "metadata": {},
   "outputs": [
    {
     "data": {
      "text/html": [
       "<div>\n",
       "<style scoped>\n",
       "    .dataframe tbody tr th:only-of-type {\n",
       "        vertical-align: middle;\n",
       "    }\n",
       "\n",
       "    .dataframe tbody tr th {\n",
       "        vertical-align: top;\n",
       "    }\n",
       "\n",
       "    .dataframe thead th {\n",
       "        text-align: right;\n",
       "    }\n",
       "</style>\n",
       "<table border=\"1\" class=\"dataframe\">\n",
       "  <thead>\n",
       "    <tr style=\"text-align: right;\">\n",
       "      <th></th>\n",
       "      <th>book_id</th>\n",
       "      <th>author_id</th>\n",
       "      <th>title</th>\n",
       "      <th>num_pages</th>\n",
       "      <th>publication_date</th>\n",
       "      <th>publisher_id</th>\n",
       "    </tr>\n",
       "  </thead>\n",
       "  <tbody>\n",
       "    <tr>\n",
       "      <th>0</th>\n",
       "      <td>1</td>\n",
       "      <td>546</td>\n",
       "      <td>'Salem's Lot</td>\n",
       "      <td>594</td>\n",
       "      <td>2005-11-01</td>\n",
       "      <td>93</td>\n",
       "    </tr>\n",
       "    <tr>\n",
       "      <th>1</th>\n",
       "      <td>2</td>\n",
       "      <td>465</td>\n",
       "      <td>1 000 Places to See Before You Die</td>\n",
       "      <td>992</td>\n",
       "      <td>2003-05-22</td>\n",
       "      <td>336</td>\n",
       "    </tr>\n",
       "    <tr>\n",
       "      <th>2</th>\n",
       "      <td>3</td>\n",
       "      <td>407</td>\n",
       "      <td>13 Little Blue Envelopes (Little Blue Envelope...</td>\n",
       "      <td>322</td>\n",
       "      <td>2010-12-21</td>\n",
       "      <td>135</td>\n",
       "    </tr>\n",
       "    <tr>\n",
       "      <th>3</th>\n",
       "      <td>4</td>\n",
       "      <td>82</td>\n",
       "      <td>1491: New Revelations of the Americas Before C...</td>\n",
       "      <td>541</td>\n",
       "      <td>2006-10-10</td>\n",
       "      <td>309</td>\n",
       "    </tr>\n",
       "    <tr>\n",
       "      <th>4</th>\n",
       "      <td>5</td>\n",
       "      <td>125</td>\n",
       "      <td>1776</td>\n",
       "      <td>386</td>\n",
       "      <td>2006-07-04</td>\n",
       "      <td>268</td>\n",
       "    </tr>\n",
       "  </tbody>\n",
       "</table>\n",
       "</div>"
      ],
      "text/plain": [
       "   book_id  author_id                                              title  \\\n",
       "0        1        546                                       'Salem's Lot   \n",
       "1        2        465                 1 000 Places to See Before You Die   \n",
       "2        3        407  13 Little Blue Envelopes (Little Blue Envelope...   \n",
       "3        4         82  1491: New Revelations of the Americas Before C...   \n",
       "4        5        125                                               1776   \n",
       "\n",
       "   num_pages publication_date  publisher_id  \n",
       "0        594       2005-11-01            93  \n",
       "1        992       2003-05-22           336  \n",
       "2        322       2010-12-21           135  \n",
       "3        541       2006-10-10           309  \n",
       "4        386       2006-07-04           268  "
      ]
     },
     "metadata": {},
     "output_type": "display_data"
    },
    {
     "name": "stdout",
     "output_type": "stream",
     "text": [
      "<class 'pandas.core.frame.DataFrame'>\n",
      "RangeIndex: 1000 entries, 0 to 999\n",
      "Data columns (total 6 columns):\n",
      " #   Column            Non-Null Count  Dtype \n",
      "---  ------            --------------  ----- \n",
      " 0   book_id           1000 non-null   int64 \n",
      " 1   author_id         1000 non-null   int64 \n",
      " 2   title             1000 non-null   object\n",
      " 3   num_pages         1000 non-null   int64 \n",
      " 4   publication_date  1000 non-null   object\n",
      " 5   publisher_id      1000 non-null   int64 \n",
      "dtypes: int64(4), object(2)\n",
      "memory usage: 47.0+ KB\n",
      "None\n",
      "****************************************************************************************************\n"
     ]
    },
    {
     "data": {
      "text/html": [
       "<div>\n",
       "<style scoped>\n",
       "    .dataframe tbody tr th:only-of-type {\n",
       "        vertical-align: middle;\n",
       "    }\n",
       "\n",
       "    .dataframe tbody tr th {\n",
       "        vertical-align: top;\n",
       "    }\n",
       "\n",
       "    .dataframe thead th {\n",
       "        text-align: right;\n",
       "    }\n",
       "</style>\n",
       "<table border=\"1\" class=\"dataframe\">\n",
       "  <thead>\n",
       "    <tr style=\"text-align: right;\">\n",
       "      <th></th>\n",
       "      <th>author_id</th>\n",
       "      <th>author</th>\n",
       "    </tr>\n",
       "  </thead>\n",
       "  <tbody>\n",
       "    <tr>\n",
       "      <th>0</th>\n",
       "      <td>1</td>\n",
       "      <td>A.S. Byatt</td>\n",
       "    </tr>\n",
       "    <tr>\n",
       "      <th>1</th>\n",
       "      <td>2</td>\n",
       "      <td>Aesop/Laura Harris/Laura Gibbs</td>\n",
       "    </tr>\n",
       "    <tr>\n",
       "      <th>2</th>\n",
       "      <td>3</td>\n",
       "      <td>Agatha Christie</td>\n",
       "    </tr>\n",
       "    <tr>\n",
       "      <th>3</th>\n",
       "      <td>4</td>\n",
       "      <td>Alan Brennert</td>\n",
       "    </tr>\n",
       "    <tr>\n",
       "      <th>4</th>\n",
       "      <td>5</td>\n",
       "      <td>Alan Moore/David   Lloyd</td>\n",
       "    </tr>\n",
       "  </tbody>\n",
       "</table>\n",
       "</div>"
      ],
      "text/plain": [
       "   author_id                          author\n",
       "0          1                      A.S. Byatt\n",
       "1          2  Aesop/Laura Harris/Laura Gibbs\n",
       "2          3                 Agatha Christie\n",
       "3          4                   Alan Brennert\n",
       "4          5        Alan Moore/David   Lloyd"
      ]
     },
     "metadata": {},
     "output_type": "display_data"
    },
    {
     "name": "stdout",
     "output_type": "stream",
     "text": [
      "<class 'pandas.core.frame.DataFrame'>\n",
      "RangeIndex: 636 entries, 0 to 635\n",
      "Data columns (total 2 columns):\n",
      " #   Column     Non-Null Count  Dtype \n",
      "---  ------     --------------  ----- \n",
      " 0   author_id  636 non-null    int64 \n",
      " 1   author     636 non-null    object\n",
      "dtypes: int64(1), object(1)\n",
      "memory usage: 10.1+ KB\n",
      "None\n",
      "****************************************************************************************************\n"
     ]
    },
    {
     "data": {
      "text/html": [
       "<div>\n",
       "<style scoped>\n",
       "    .dataframe tbody tr th:only-of-type {\n",
       "        vertical-align: middle;\n",
       "    }\n",
       "\n",
       "    .dataframe tbody tr th {\n",
       "        vertical-align: top;\n",
       "    }\n",
       "\n",
       "    .dataframe thead th {\n",
       "        text-align: right;\n",
       "    }\n",
       "</style>\n",
       "<table border=\"1\" class=\"dataframe\">\n",
       "  <thead>\n",
       "    <tr style=\"text-align: right;\">\n",
       "      <th></th>\n",
       "      <th>rating_id</th>\n",
       "      <th>book_id</th>\n",
       "      <th>username</th>\n",
       "      <th>rating</th>\n",
       "    </tr>\n",
       "  </thead>\n",
       "  <tbody>\n",
       "    <tr>\n",
       "      <th>0</th>\n",
       "      <td>1</td>\n",
       "      <td>1</td>\n",
       "      <td>ryanfranco</td>\n",
       "      <td>4</td>\n",
       "    </tr>\n",
       "    <tr>\n",
       "      <th>1</th>\n",
       "      <td>2</td>\n",
       "      <td>1</td>\n",
       "      <td>grantpatricia</td>\n",
       "      <td>2</td>\n",
       "    </tr>\n",
       "    <tr>\n",
       "      <th>2</th>\n",
       "      <td>3</td>\n",
       "      <td>1</td>\n",
       "      <td>brandtandrea</td>\n",
       "      <td>5</td>\n",
       "    </tr>\n",
       "    <tr>\n",
       "      <th>3</th>\n",
       "      <td>4</td>\n",
       "      <td>2</td>\n",
       "      <td>lorichen</td>\n",
       "      <td>3</td>\n",
       "    </tr>\n",
       "    <tr>\n",
       "      <th>4</th>\n",
       "      <td>5</td>\n",
       "      <td>2</td>\n",
       "      <td>mariokeller</td>\n",
       "      <td>2</td>\n",
       "    </tr>\n",
       "  </tbody>\n",
       "</table>\n",
       "</div>"
      ],
      "text/plain": [
       "   rating_id  book_id       username  rating\n",
       "0          1        1     ryanfranco       4\n",
       "1          2        1  grantpatricia       2\n",
       "2          3        1   brandtandrea       5\n",
       "3          4        2       lorichen       3\n",
       "4          5        2    mariokeller       2"
      ]
     },
     "metadata": {},
     "output_type": "display_data"
    },
    {
     "name": "stdout",
     "output_type": "stream",
     "text": [
      "<class 'pandas.core.frame.DataFrame'>\n",
      "RangeIndex: 6456 entries, 0 to 6455\n",
      "Data columns (total 4 columns):\n",
      " #   Column     Non-Null Count  Dtype \n",
      "---  ------     --------------  ----- \n",
      " 0   rating_id  6456 non-null   int64 \n",
      " 1   book_id    6456 non-null   int64 \n",
      " 2   username   6456 non-null   object\n",
      " 3   rating     6456 non-null   int64 \n",
      "dtypes: int64(3), object(1)\n",
      "memory usage: 201.9+ KB\n",
      "None\n",
      "****************************************************************************************************\n"
     ]
    },
    {
     "data": {
      "text/html": [
       "<div>\n",
       "<style scoped>\n",
       "    .dataframe tbody tr th:only-of-type {\n",
       "        vertical-align: middle;\n",
       "    }\n",
       "\n",
       "    .dataframe tbody tr th {\n",
       "        vertical-align: top;\n",
       "    }\n",
       "\n",
       "    .dataframe thead th {\n",
       "        text-align: right;\n",
       "    }\n",
       "</style>\n",
       "<table border=\"1\" class=\"dataframe\">\n",
       "  <thead>\n",
       "    <tr style=\"text-align: right;\">\n",
       "      <th></th>\n",
       "      <th>review_id</th>\n",
       "      <th>book_id</th>\n",
       "      <th>username</th>\n",
       "      <th>text</th>\n",
       "    </tr>\n",
       "  </thead>\n",
       "  <tbody>\n",
       "    <tr>\n",
       "      <th>0</th>\n",
       "      <td>1</td>\n",
       "      <td>1</td>\n",
       "      <td>brandtandrea</td>\n",
       "      <td>Mention society tell send professor analysis. ...</td>\n",
       "    </tr>\n",
       "    <tr>\n",
       "      <th>1</th>\n",
       "      <td>2</td>\n",
       "      <td>1</td>\n",
       "      <td>ryanfranco</td>\n",
       "      <td>Foot glass pretty audience hit themselves. Amo...</td>\n",
       "    </tr>\n",
       "    <tr>\n",
       "      <th>2</th>\n",
       "      <td>3</td>\n",
       "      <td>2</td>\n",
       "      <td>lorichen</td>\n",
       "      <td>Listen treat keep worry. Miss husband tax but ...</td>\n",
       "    </tr>\n",
       "    <tr>\n",
       "      <th>3</th>\n",
       "      <td>4</td>\n",
       "      <td>3</td>\n",
       "      <td>johnsonamanda</td>\n",
       "      <td>Finally month interesting blue could nature cu...</td>\n",
       "    </tr>\n",
       "    <tr>\n",
       "      <th>4</th>\n",
       "      <td>5</td>\n",
       "      <td>3</td>\n",
       "      <td>scotttamara</td>\n",
       "      <td>Nation purpose heavy give wait song will. List...</td>\n",
       "    </tr>\n",
       "  </tbody>\n",
       "</table>\n",
       "</div>"
      ],
      "text/plain": [
       "   review_id  book_id       username  \\\n",
       "0          1        1   brandtandrea   \n",
       "1          2        1     ryanfranco   \n",
       "2          3        2       lorichen   \n",
       "3          4        3  johnsonamanda   \n",
       "4          5        3    scotttamara   \n",
       "\n",
       "                                                text  \n",
       "0  Mention society tell send professor analysis. ...  \n",
       "1  Foot glass pretty audience hit themselves. Amo...  \n",
       "2  Listen treat keep worry. Miss husband tax but ...  \n",
       "3  Finally month interesting blue could nature cu...  \n",
       "4  Nation purpose heavy give wait song will. List...  "
      ]
     },
     "metadata": {},
     "output_type": "display_data"
    },
    {
     "name": "stdout",
     "output_type": "stream",
     "text": [
      "<class 'pandas.core.frame.DataFrame'>\n",
      "RangeIndex: 2793 entries, 0 to 2792\n",
      "Data columns (total 4 columns):\n",
      " #   Column     Non-Null Count  Dtype \n",
      "---  ------     --------------  ----- \n",
      " 0   review_id  2793 non-null   int64 \n",
      " 1   book_id    2793 non-null   int64 \n",
      " 2   username   2793 non-null   object\n",
      " 3   text       2793 non-null   object\n",
      "dtypes: int64(2), object(2)\n",
      "memory usage: 87.4+ KB\n",
      "None\n",
      "****************************************************************************************************\n"
     ]
    },
    {
     "data": {
      "text/html": [
       "<div>\n",
       "<style scoped>\n",
       "    .dataframe tbody tr th:only-of-type {\n",
       "        vertical-align: middle;\n",
       "    }\n",
       "\n",
       "    .dataframe tbody tr th {\n",
       "        vertical-align: top;\n",
       "    }\n",
       "\n",
       "    .dataframe thead th {\n",
       "        text-align: right;\n",
       "    }\n",
       "</style>\n",
       "<table border=\"1\" class=\"dataframe\">\n",
       "  <thead>\n",
       "    <tr style=\"text-align: right;\">\n",
       "      <th></th>\n",
       "      <th>publisher_id</th>\n",
       "      <th>publisher</th>\n",
       "    </tr>\n",
       "  </thead>\n",
       "  <tbody>\n",
       "    <tr>\n",
       "      <th>0</th>\n",
       "      <td>1</td>\n",
       "      <td>Ace</td>\n",
       "    </tr>\n",
       "    <tr>\n",
       "      <th>1</th>\n",
       "      <td>2</td>\n",
       "      <td>Ace Book</td>\n",
       "    </tr>\n",
       "    <tr>\n",
       "      <th>2</th>\n",
       "      <td>3</td>\n",
       "      <td>Ace Books</td>\n",
       "    </tr>\n",
       "    <tr>\n",
       "      <th>3</th>\n",
       "      <td>4</td>\n",
       "      <td>Ace Hardcover</td>\n",
       "    </tr>\n",
       "    <tr>\n",
       "      <th>4</th>\n",
       "      <td>5</td>\n",
       "      <td>Addison Wesley Publishing Company</td>\n",
       "    </tr>\n",
       "  </tbody>\n",
       "</table>\n",
       "</div>"
      ],
      "text/plain": [
       "   publisher_id                          publisher\n",
       "0             1                                Ace\n",
       "1             2                           Ace Book\n",
       "2             3                          Ace Books\n",
       "3             4                      Ace Hardcover\n",
       "4             5  Addison Wesley Publishing Company"
      ]
     },
     "metadata": {},
     "output_type": "display_data"
    },
    {
     "name": "stdout",
     "output_type": "stream",
     "text": [
      "<class 'pandas.core.frame.DataFrame'>\n",
      "RangeIndex: 340 entries, 0 to 339\n",
      "Data columns (total 2 columns):\n",
      " #   Column        Non-Null Count  Dtype \n",
      "---  ------        --------------  ----- \n",
      " 0   publisher_id  340 non-null    int64 \n",
      " 1   publisher     340 non-null    object\n",
      "dtypes: int64(1), object(1)\n",
      "memory usage: 5.4+ KB\n",
      "None\n",
      "****************************************************************************************************\n"
     ]
    }
   ],
   "source": [
    "datasets = [books, author, ratings, reviews, publishers]\n",
    "\n",
    "for value in datasets:\n",
    "    display(value.head(5))\n",
    "    print(value.info())\n",
    "    print('**'*50)"
   ]
  },
  {
   "cell_type": "markdown",
   "id": "b4bf1841-49bc-443c-ab28-443fa9540893",
   "metadata": {},
   "source": [
    "### Задания\n",
    "#### Посчитайте, сколько книг вышло после 1 января 2000 года"
   ]
  },
  {
   "cell_type": "code",
   "execution_count": 5,
   "id": "ff889f18-c5b9-4ac3-b0bf-825d955b9af4",
   "metadata": {},
   "outputs": [
    {
     "name": "stdout",
     "output_type": "stream",
     "text": [
      "После 1 января 2000 года вышло 819 книг\n"
     ]
    }
   ],
   "source": [
    "query_1 = '''\n",
    "SELECT COUNT(book_id)\n",
    "FROM books\n",
    "WHERE publication_date > '01.01.2000'\n",
    "'''\n",
    "task_1 = pd.io.sql.read_sql(query_1, con = engine)\n",
    "print(f'После 1 января 2000 года вышло {task_1.iloc[0,0]} книг')"
   ]
  },
  {
   "cell_type": "code",
   "execution_count": 6,
   "id": "df668fc3-0c31-46be-b4a7-bdbcc9e017ca",
   "metadata": {},
   "outputs": [
    {
     "data": {
      "text/plain": [
       "819"
      ]
     },
     "execution_count": 6,
     "metadata": {},
     "output_type": "execute_result"
    }
   ],
   "source": [
    "#Проверим в Pandas\n",
    "books['publication_date'] = books['publication_date'].astype('datetime64')\n",
    "books.query('publication_date >\" 2000-01-01\"')['book_id'].count()"
   ]
  },
  {
   "cell_type": "markdown",
   "id": "e5787cf4-191c-497f-83d7-10acdb05b549",
   "metadata": {},
   "source": [
    "**Получились одинаковые значения**"
   ]
  },
  {
   "cell_type": "markdown",
   "id": "71244643-775f-49e9-a663-e498226c7416",
   "metadata": {},
   "source": [
    "#### Для каждой книги посчитайте количество обзоров и среднюю оценку"
   ]
  },
  {
   "cell_type": "code",
   "execution_count": 7,
   "id": "e0319ffd",
   "metadata": {},
   "outputs": [
    {
     "data": {
      "text/html": [
       "<div>\n",
       "<style scoped>\n",
       "    .dataframe tbody tr th:only-of-type {\n",
       "        vertical-align: middle;\n",
       "    }\n",
       "\n",
       "    .dataframe tbody tr th {\n",
       "        vertical-align: top;\n",
       "    }\n",
       "\n",
       "    .dataframe thead th {\n",
       "        text-align: right;\n",
       "    }\n",
       "</style>\n",
       "<table border=\"1\" class=\"dataframe\">\n",
       "  <thead>\n",
       "    <tr style=\"text-align: right;\">\n",
       "      <th></th>\n",
       "      <th>title</th>\n",
       "      <th>count</th>\n",
       "      <th>avg</th>\n",
       "    </tr>\n",
       "  </thead>\n",
       "  <tbody>\n",
       "    <tr>\n",
       "      <th>0</th>\n",
       "      <td>Twilight (Twilight  #1)</td>\n",
       "      <td>7</td>\n",
       "      <td>3.66</td>\n",
       "    </tr>\n",
       "    <tr>\n",
       "      <th>1</th>\n",
       "      <td>Water for Elephants</td>\n",
       "      <td>6</td>\n",
       "      <td>3.98</td>\n",
       "    </tr>\n",
       "    <tr>\n",
       "      <th>2</th>\n",
       "      <td>The Glass Castle</td>\n",
       "      <td>6</td>\n",
       "      <td>4.21</td>\n",
       "    </tr>\n",
       "    <tr>\n",
       "      <th>3</th>\n",
       "      <td>Harry Potter and the Prisoner of Azkaban (Harr...</td>\n",
       "      <td>6</td>\n",
       "      <td>4.41</td>\n",
       "    </tr>\n",
       "    <tr>\n",
       "      <th>4</th>\n",
       "      <td>The Curious Incident of the Dog in the Night-Time</td>\n",
       "      <td>6</td>\n",
       "      <td>4.08</td>\n",
       "    </tr>\n",
       "    <tr>\n",
       "      <th>...</th>\n",
       "      <td>...</td>\n",
       "      <td>...</td>\n",
       "      <td>...</td>\n",
       "    </tr>\n",
       "    <tr>\n",
       "      <th>995</th>\n",
       "      <td>Anne Rice's The Vampire Lestat: A Graphic Novel</td>\n",
       "      <td>0</td>\n",
       "      <td>3.67</td>\n",
       "    </tr>\n",
       "    <tr>\n",
       "      <th>996</th>\n",
       "      <td>The Natural Way to Draw</td>\n",
       "      <td>0</td>\n",
       "      <td>3.00</td>\n",
       "    </tr>\n",
       "    <tr>\n",
       "      <th>997</th>\n",
       "      <td>The Cat in the Hat and Other Dr. Seuss Favorites</td>\n",
       "      <td>0</td>\n",
       "      <td>5.00</td>\n",
       "    </tr>\n",
       "    <tr>\n",
       "      <th>998</th>\n",
       "      <td>Essential Tales and Poems</td>\n",
       "      <td>0</td>\n",
       "      <td>4.00</td>\n",
       "    </tr>\n",
       "    <tr>\n",
       "      <th>999</th>\n",
       "      <td>Disney's Beauty and the Beast (A Little Golden...</td>\n",
       "      <td>0</td>\n",
       "      <td>4.00</td>\n",
       "    </tr>\n",
       "  </tbody>\n",
       "</table>\n",
       "<p>1000 rows × 3 columns</p>\n",
       "</div>"
      ],
      "text/plain": [
       "                                                 title  count   avg\n",
       "0                              Twilight (Twilight  #1)      7  3.66\n",
       "1                                  Water for Elephants      6  3.98\n",
       "2                                     The Glass Castle      6  4.21\n",
       "3    Harry Potter and the Prisoner of Azkaban (Harr...      6  4.41\n",
       "4    The Curious Incident of the Dog in the Night-Time      6  4.08\n",
       "..                                                 ...    ...   ...\n",
       "995    Anne Rice's The Vampire Lestat: A Graphic Novel      0  3.67\n",
       "996                            The Natural Way to Draw      0  3.00\n",
       "997   The Cat in the Hat and Other Dr. Seuss Favorites      0  5.00\n",
       "998                          Essential Tales and Poems      0  4.00\n",
       "999  Disney's Beauty and the Beast (A Little Golden...      0  4.00\n",
       "\n",
       "[1000 rows x 3 columns]"
      ]
     },
     "execution_count": 7,
     "metadata": {},
     "output_type": "execute_result"
    }
   ],
   "source": [
    "query_2 = '''\n",
    "SELECT b.title,\n",
    "       COUNT (DISTINCT re.review_id), ROUND(AVG(r.rating), 2) AS avg\n",
    "FROM reviews re\n",
    "RIGHT OUTER JOIN books AS b ON re.book_id=b.book_id\n",
    "LEFT OUTER JOIN ratings AS r ON b.book_id = r.book_id\n",
    "GROUP BY b.book_id\n",
    "ORDER BY COUNT (DISTINCT re.review_id) DESC\n",
    "'''\n",
    "task_2 = pd.io.sql.read_sql(query_2, con = engine)\n",
    "task_2"
   ]
  },
  {
   "cell_type": "code",
   "execution_count": 8,
   "id": "19f96265-9196-438a-8043-b1967c28aaf3",
   "metadata": {},
   "outputs": [],
   "source": [
    "#Проверим в Pandas\n",
    "books_merge = books.merge(reviews, on='book_id',how='left')\n",
    "books_merge = books_merge.merge(ratings, on ='book_id',how='left')"
   ]
  },
  {
   "cell_type": "code",
   "execution_count": 9,
   "id": "86e9ab41-ff22-4eb1-b26b-7071253ae01d",
   "metadata": {},
   "outputs": [
    {
     "data": {
      "text/html": [
       "<div>\n",
       "<style scoped>\n",
       "    .dataframe tbody tr th:only-of-type {\n",
       "        vertical-align: middle;\n",
       "    }\n",
       "\n",
       "    .dataframe tbody tr th {\n",
       "        vertical-align: top;\n",
       "    }\n",
       "\n",
       "    .dataframe thead th {\n",
       "        text-align: right;\n",
       "    }\n",
       "</style>\n",
       "<table border=\"1\" class=\"dataframe\">\n",
       "  <thead>\n",
       "    <tr style=\"text-align: right;\">\n",
       "      <th></th>\n",
       "      <th></th>\n",
       "      <th>review_id</th>\n",
       "      <th>rating</th>\n",
       "    </tr>\n",
       "    <tr>\n",
       "      <th>book_id</th>\n",
       "      <th>title</th>\n",
       "      <th></th>\n",
       "      <th></th>\n",
       "    </tr>\n",
       "  </thead>\n",
       "  <tbody>\n",
       "    <tr>\n",
       "      <th>948</th>\n",
       "      <th>Twilight (Twilight  #1)</th>\n",
       "      <td>7</td>\n",
       "      <td>3.662500</td>\n",
       "    </tr>\n",
       "    <tr>\n",
       "      <th>963</th>\n",
       "      <th>Water for Elephants</th>\n",
       "      <td>6</td>\n",
       "      <td>3.977273</td>\n",
       "    </tr>\n",
       "    <tr>\n",
       "      <th>733</th>\n",
       "      <th>The Giver (The Giver  #1)</th>\n",
       "      <td>6</td>\n",
       "      <td>3.750000</td>\n",
       "    </tr>\n",
       "    <tr>\n",
       "      <th>750</th>\n",
       "      <th>The Hobbit  or There and Back Again</th>\n",
       "      <td>6</td>\n",
       "      <td>4.125000</td>\n",
       "    </tr>\n",
       "    <tr>\n",
       "      <th>627</th>\n",
       "      <th>The Alchemist</th>\n",
       "      <td>6</td>\n",
       "      <td>3.789474</td>\n",
       "    </tr>\n",
       "    <tr>\n",
       "      <th>...</th>\n",
       "      <th>...</th>\n",
       "      <td>...</td>\n",
       "      <td>...</td>\n",
       "    </tr>\n",
       "    <tr>\n",
       "      <th>808</th>\n",
       "      <th>The Natural Way to Draw</th>\n",
       "      <td>0</td>\n",
       "      <td>3.000000</td>\n",
       "    </tr>\n",
       "    <tr>\n",
       "      <th>191</th>\n",
       "      <th>Disney's Beauty and the Beast (A Little Golden Book)</th>\n",
       "      <td>0</td>\n",
       "      <td>4.000000</td>\n",
       "    </tr>\n",
       "    <tr>\n",
       "      <th>221</th>\n",
       "      <th>Essential Tales and Poems</th>\n",
       "      <td>0</td>\n",
       "      <td>4.000000</td>\n",
       "    </tr>\n",
       "    <tr>\n",
       "      <th>387</th>\n",
       "      <th>Leonardo's Notebooks</th>\n",
       "      <td>0</td>\n",
       "      <td>4.000000</td>\n",
       "    </tr>\n",
       "    <tr>\n",
       "      <th>83</th>\n",
       "      <th>Anne Rice's The Vampire Lestat: A Graphic Novel</th>\n",
       "      <td>0</td>\n",
       "      <td>3.666667</td>\n",
       "    </tr>\n",
       "  </tbody>\n",
       "</table>\n",
       "<p>1000 rows × 2 columns</p>\n",
       "</div>"
      ],
      "text/plain": [
       "                                                            review_id  \\\n",
       "book_id title                                                           \n",
       "948     Twilight (Twilight  #1)                                     7   \n",
       "963     Water for Elephants                                         6   \n",
       "733     The Giver (The Giver  #1)                                   6   \n",
       "750     The Hobbit  or There and Back Again                         6   \n",
       "627     The Alchemist                                               6   \n",
       "...                                                               ...   \n",
       "808     The Natural Way to Draw                                     0   \n",
       "191     Disney's Beauty and the Beast (A Little Golden ...          0   \n",
       "221     Essential Tales and Poems                                   0   \n",
       "387     Leonardo's Notebooks                                        0   \n",
       "83      Anne Rice's The Vampire Lestat: A Graphic Novel             0   \n",
       "\n",
       "                                                              rating  \n",
       "book_id title                                                         \n",
       "948     Twilight (Twilight  #1)                             3.662500  \n",
       "963     Water for Elephants                                 3.977273  \n",
       "733     The Giver (The Giver  #1)                           3.750000  \n",
       "750     The Hobbit  or There and Back Again                 4.125000  \n",
       "627     The Alchemist                                       3.789474  \n",
       "...                                                              ...  \n",
       "808     The Natural Way to Draw                             3.000000  \n",
       "191     Disney's Beauty and the Beast (A Little Golden ...  4.000000  \n",
       "221     Essential Tales and Poems                           4.000000  \n",
       "387     Leonardo's Notebooks                                4.000000  \n",
       "83      Anne Rice's The Vampire Lestat: A Graphic Novel     3.666667  \n",
       "\n",
       "[1000 rows x 2 columns]"
      ]
     },
     "execution_count": 9,
     "metadata": {},
     "output_type": "execute_result"
    }
   ],
   "source": [
    "books_merge.groupby(['book_id','title']).agg({'review_id':'nunique','rating':'mean'}).sort_values(by='review_id',ascending=False)"
   ]
  },
  {
   "cell_type": "markdown",
   "id": "11835278-a03d-4309-b4d4-d9e653e01e3d",
   "metadata": {},
   "source": [
    "**Опять получились одинаковые значения**"
   ]
  },
  {
   "cell_type": "markdown",
   "id": "80e2c370-c2eb-41cb-a32a-9490f6257bf0",
   "metadata": {},
   "source": [
    "#### Определите издательство, которое выпустило наибольшее число книг толще 50 страниц — так вы исключите из анализа брошюры"
   ]
  },
  {
   "cell_type": "code",
   "execution_count": 10,
   "id": "fabe5887-e32f-4f94-9fe5-ad1c079d4301",
   "metadata": {},
   "outputs": [
    {
     "name": "stdout",
     "output_type": "stream",
     "text": [
      "Издательство, которое выпустило больше всего книг: Penguin Books. Количество книг: 42\n"
     ]
    }
   ],
   "source": [
    "query_3 = '''\n",
    "SELECT *\n",
    "FROM (\n",
    "SELECT p.publisher, COUNT(DISTINCT b.book_id)\n",
    "FROM books b\n",
    "LEFT JOIN publishers p ON b.publisher_id = p.publisher_id\n",
    "WHERE b.num_pages > 50\n",
    "GROUP BY p.publisher) AS sub\n",
    "ORDER BY count DESC\n",
    "LIMIT 1\n",
    "'''\n",
    "task_3 = pd.io.sql.read_sql(query_3, con = engine)\n",
    "print(f'Издательство, которое выпустило больше всего книг: {task_3.iloc[0,0]}. Количество книг: {task_3.iloc[0,1]}')"
   ]
  },
  {
   "cell_type": "code",
   "execution_count": 11,
   "id": "6393f4d8-3fdf-4f4e-b3c2-ab6642abf880",
   "metadata": {},
   "outputs": [
    {
     "data": {
      "text/plain": [
       "publisher\n",
       "Penguin Books                   42\n",
       "Vintage                         31\n",
       "Grand Central Publishing        25\n",
       "Penguin Classics                24\n",
       "Ballantine Books                19\n",
       "                                ..\n",
       "Devil's Due Publishing           1\n",
       "Oxford University Press  USA     1\n",
       "Pan Childrens                    1\n",
       "Deodand                          1\n",
       "Yearling Books                   1\n",
       "Name: book_id, Length: 334, dtype: int64"
      ]
     },
     "execution_count": 11,
     "metadata": {},
     "output_type": "execute_result"
    }
   ],
   "source": [
    "#Проверим в Pandas\n",
    "books_merge_2 = books_merge.merge(publishers, on='publisher_id', how='left')\n",
    "books_merge_2 = books_merge_2.query('num_pages > 50')\n",
    "books_merge_2.groupby('publisher')['book_id'].nunique().sort_values(ascending=False)"
   ]
  },
  {
   "cell_type": "markdown",
   "id": "848ee3ed-d684-4d89-aafa-439396b5aaa6",
   "metadata": {},
   "source": [
    "**Получились одинаковые значения**"
   ]
  },
  {
   "cell_type": "markdown",
   "id": "be11f228-68fd-4852-b6f1-b09ce740ea95",
   "metadata": {},
   "source": [
    "#### Определите автора с самой высокой средней оценкой книг — учитывайте только книги с 50 и более оценками"
   ]
  },
  {
   "cell_type": "code",
   "execution_count": 12,
   "id": "11e4566d-5e3e-46ab-8199-cea3a98baf2f",
   "metadata": {},
   "outputs": [
    {
     "name": "stdout",
     "output_type": "stream",
     "text": [
      "Автор с самой высокой средней оценкой книг J.K. Rowling/Mary GrandPré, средняя оценка книг: 4.287\n"
     ]
    }
   ],
   "source": [
    "query_4 = '''\n",
    "SELECT a.author, ROUND(AVG(r.rating),3)\n",
    "FROM authors a \n",
    "JOIN books b ON b.author_id = a.author_id\n",
    "JOIN ratings r ON b.book_id = r.book_id\n",
    "WHERE b.book_id IN (SELECT book_id\n",
    "FROM ratings\n",
    "GROUP BY book_id\n",
    "HAVING COUNT(rating_id) >=50\n",
    ")\n",
    "GROUP BY a.author\n",
    "ORDER BY AVG(r.rating) DESC\n",
    "LIMIT 1\n",
    "'''\n",
    "task_4 = pd.io.sql.read_sql(query_4, con = engine)\n",
    "print(f'Автор с самой высокой средней оценкой книг {task_4.iloc[0,0]}, средняя оценка книг: {task_4.iloc[0,1]}')"
   ]
  },
  {
   "cell_type": "markdown",
   "id": "3365f9e5-6245-46d1-bddc-1865a6e37244",
   "metadata": {},
   "source": [
    "#### Посчитайте среднее количество обзоров от пользователей, которые поставили больше 48 оценок."
   ]
  },
  {
   "cell_type": "code",
   "execution_count": 13,
   "id": "6a5d3a9f-5f11-4ad7-8fa9-443c4fb596ba",
   "metadata": {},
   "outputs": [
    {
     "name": "stdout",
     "output_type": "stream",
     "text": [
      "Среднее количество обзоров от пользователей, которые поставили больше 48 оценок: 24.0\n"
     ]
    }
   ],
   "source": [
    "query_5 = '''\n",
    "SELECT AVG(count)\n",
    "FROM (\n",
    "    SELECT COUNT(review_id)\n",
    "    FROM reviews\n",
    "    WHERE username IN \n",
    "        (SELECT username\n",
    "        FROM ratings\n",
    "        GROUP BY username\n",
    "        HAVING COUNT(rating_id) > 48\n",
    ")\n",
    "GROUP BY username) as sub\n",
    "'''\n",
    "\n",
    "task_5 = pd.io.sql.read_sql(query_5, con = engine)\n",
    "task_5\n",
    "print(f'Среднее количество обзоров от пользователей, которые поставили больше 48 оценок: {task_5.iloc[0,0]}')"
   ]
  },
  {
   "cell_type": "markdown",
   "id": "12399155-f826-4673-af7a-45a46efa6a21",
   "metadata": {},
   "source": [
    "**Вывод по проекту:**\n",
    "\n",
    "Были рассчитаны 5 задач используя язык запросов SQL. В Pandas для точности выполнения задачи была проведена проверка.\n",
    "\n",
    "Ответы на поставленные вопросы:\n",
    "1. После 1 января 2000 года вышло 819 книг\n",
    "2. Для 1000 книг посчиталаи количество обзоров и среднюю оценку\n",
    "3. Издательство, которое выпустило больше всего книг: Penguin Books. Количество книг: 42\n",
    "4. Определили авторов с самой высокой оценкой - J.K. Rowling/Mary GrandPré, средняя оценка книг: 4.287\n",
    "5. Среднее количество обзоров от пользователей, которые поставили больше 48 оценок: 24.0"
   ]
  }
 ],
 "metadata": {
  "ExecuteTimeLog": [
   {
    "duration": 596,
    "start_time": "2023-11-19T10:15:21.288Z"
   },
   {
    "duration": 10800,
    "start_time": "2023-11-19T10:15:21.886Z"
   },
   {
    "duration": 45,
    "start_time": "2023-11-19T17:41:30.712Z"
   },
   {
    "duration": 506,
    "start_time": "2023-11-19T17:41:35.953Z"
   },
   {
    "duration": 8143,
    "start_time": "2023-11-19T17:41:36.461Z"
   },
   {
    "duration": 469,
    "start_time": "2023-11-19T17:41:44.606Z"
   },
   {
    "duration": 64,
    "start_time": "2023-11-19T17:41:45.077Z"
   },
   {
    "duration": 68,
    "start_time": "2023-11-19T17:41:45.143Z"
   },
   {
    "duration": 8,
    "start_time": "2023-11-19T17:41:45.212Z"
   },
   {
    "duration": 95,
    "start_time": "2023-11-19T17:41:45.221Z"
   },
   {
    "duration": 15,
    "start_time": "2023-11-19T17:41:45.318Z"
   },
   {
    "duration": 19,
    "start_time": "2023-11-19T17:41:45.335Z"
   },
   {
    "duration": 70,
    "start_time": "2023-11-19T17:41:45.355Z"
   },
   {
    "duration": 25,
    "start_time": "2023-11-19T17:41:45.426Z"
   },
   {
    "duration": 76,
    "start_time": "2023-11-19T17:41:45.453Z"
   },
   {
    "duration": 26,
    "start_time": "2023-11-19T17:41:45.530Z"
   },
   {
    "duration": 70,
    "start_time": "2023-11-19T17:41:45.558Z"
   },
   {
    "duration": 8,
    "start_time": "2023-11-19T17:41:45.629Z"
   },
   {
    "duration": 336,
    "start_time": "2023-11-19T17:43:11.495Z"
   },
   {
    "duration": 216,
    "start_time": "2023-11-19T17:43:46.621Z"
   },
   {
    "duration": 173,
    "start_time": "2023-11-19T17:44:13.172Z"
   },
   {
    "duration": 170,
    "start_time": "2023-11-19T17:44:29.355Z"
   },
   {
    "duration": 339,
    "start_time": "2023-11-19T17:44:42.632Z"
   },
   {
    "duration": 192,
    "start_time": "2023-11-19T17:44:58.072Z"
   },
   {
    "duration": 270,
    "start_time": "2023-11-19T17:45:02.040Z"
   },
   {
    "duration": 156,
    "start_time": "2023-11-19T17:45:08.312Z"
   },
   {
    "duration": 336,
    "start_time": "2023-11-19T17:45:20.352Z"
   },
   {
    "duration": 106,
    "start_time": "2023-11-19T17:46:45.213Z"
   },
   {
    "duration": 152,
    "start_time": "2023-11-19T17:47:17.293Z"
   },
   {
    "duration": 106,
    "start_time": "2023-11-19T17:47:25.873Z"
   },
   {
    "duration": 142,
    "start_time": "2023-11-19T17:47:43.742Z"
   },
   {
    "duration": 337,
    "start_time": "2023-11-19T17:47:47.312Z"
   },
   {
    "duration": 24,
    "start_time": "2023-11-19T17:48:11.952Z"
   },
   {
    "duration": 67,
    "start_time": "2023-11-19T17:48:28.652Z"
   },
   {
    "duration": 75,
    "start_time": "2023-11-19T17:48:32.054Z"
   },
   {
    "duration": 11,
    "start_time": "2023-11-19T17:48:36.861Z"
   },
   {
    "duration": 13,
    "start_time": "2023-11-19T17:48:45.653Z"
   },
   {
    "duration": 10,
    "start_time": "2023-11-19T17:49:02.512Z"
   },
   {
    "duration": 11,
    "start_time": "2023-11-19T17:49:06.073Z"
   },
   {
    "duration": 9,
    "start_time": "2023-11-19T17:49:11.800Z"
   },
   {
    "duration": 10,
    "start_time": "2023-11-19T17:49:16.752Z"
   },
   {
    "duration": 17,
    "start_time": "2023-11-19T17:49:22.572Z"
   },
   {
    "duration": 14,
    "start_time": "2023-11-19T17:50:44.132Z"
   },
   {
    "duration": 19,
    "start_time": "2023-11-19T17:50:47.832Z"
   },
   {
    "duration": 9,
    "start_time": "2023-11-19T17:50:56.173Z"
   },
   {
    "duration": 9,
    "start_time": "2023-11-19T17:51:02.193Z"
   },
   {
    "duration": 9,
    "start_time": "2023-11-19T17:51:04.473Z"
   },
   {
    "duration": 9,
    "start_time": "2023-11-19T17:51:06.673Z"
   },
   {
    "duration": 9,
    "start_time": "2023-11-19T17:51:23.652Z"
   },
   {
    "duration": 40,
    "start_time": "2023-11-19T17:51:38.552Z"
   },
   {
    "duration": 12,
    "start_time": "2023-11-19T17:52:53.501Z"
   },
   {
    "duration": 26,
    "start_time": "2023-11-19T17:53:20.181Z"
   },
   {
    "duration": 106,
    "start_time": "2023-11-19T17:54:02.632Z"
   },
   {
    "duration": 590,
    "start_time": "2023-11-19T17:54:11.713Z"
   },
   {
    "duration": 21,
    "start_time": "2023-11-19T17:54:56.352Z"
   },
   {
    "duration": 17,
    "start_time": "2023-11-19T17:55:06.493Z"
   },
   {
    "duration": 20,
    "start_time": "2023-11-19T17:55:22.292Z"
   },
   {
    "duration": 28,
    "start_time": "2023-11-19T17:55:28.693Z"
   },
   {
    "duration": 17,
    "start_time": "2023-11-19T17:55:50.452Z"
   },
   {
    "duration": 23,
    "start_time": "2023-11-19T17:55:54.294Z"
   },
   {
    "duration": 10,
    "start_time": "2023-11-19T17:56:48.040Z"
   },
   {
    "duration": 22,
    "start_time": "2023-11-19T17:57:00.773Z"
   },
   {
    "duration": 21,
    "start_time": "2023-11-19T17:57:08.532Z"
   },
   {
    "duration": 165,
    "start_time": "2023-11-19T17:58:14.528Z"
   },
   {
    "duration": 152,
    "start_time": "2023-11-19T17:58:48.273Z"
   },
   {
    "duration": 149,
    "start_time": "2023-11-19T17:58:59.092Z"
   },
   {
    "duration": 179,
    "start_time": "2023-11-19T17:59:03.653Z"
   },
   {
    "duration": 224,
    "start_time": "2023-11-19T17:59:08.173Z"
   },
   {
    "duration": 171,
    "start_time": "2023-11-19T17:59:43.540Z"
   },
   {
    "duration": 274,
    "start_time": "2023-11-19T17:59:52.773Z"
   },
   {
    "duration": 159,
    "start_time": "2023-11-19T18:01:01.053Z"
   },
   {
    "duration": 165,
    "start_time": "2023-11-19T18:01:16.493Z"
   },
   {
    "duration": 106,
    "start_time": "2023-11-19T18:01:25.154Z"
   },
   {
    "duration": 106,
    "start_time": "2023-11-19T18:02:30.714Z"
   },
   {
    "duration": 105,
    "start_time": "2023-11-19T18:02:50.840Z"
   },
   {
    "duration": 105,
    "start_time": "2023-11-19T18:02:55.817Z"
   },
   {
    "duration": 112,
    "start_time": "2023-11-19T18:03:09.954Z"
   },
   {
    "duration": 106,
    "start_time": "2023-11-19T18:05:33.773Z"
   },
   {
    "duration": 465,
    "start_time": "2023-11-19T18:05:42.512Z"
   },
   {
    "duration": 9645,
    "start_time": "2023-11-19T18:05:42.978Z"
   },
   {
    "duration": 461,
    "start_time": "2023-11-19T18:05:52.624Z"
   },
   {
    "duration": 63,
    "start_time": "2023-11-19T18:05:53.087Z"
   },
   {
    "duration": 69,
    "start_time": "2023-11-19T18:05:53.151Z"
   },
   {
    "duration": 9,
    "start_time": "2023-11-19T18:05:53.221Z"
   },
   {
    "duration": 72,
    "start_time": "2023-11-19T18:05:53.232Z"
   },
   {
    "duration": 1,
    "start_time": "2023-11-19T18:05:53.305Z"
   },
   {
    "duration": 0,
    "start_time": "2023-11-19T18:05:53.307Z"
   },
   {
    "duration": 0,
    "start_time": "2023-11-19T18:05:53.308Z"
   },
   {
    "duration": 0,
    "start_time": "2023-11-19T18:05:53.309Z"
   },
   {
    "duration": 0,
    "start_time": "2023-11-19T18:05:53.309Z"
   },
   {
    "duration": 0,
    "start_time": "2023-11-19T18:05:53.311Z"
   },
   {
    "duration": 0,
    "start_time": "2023-11-19T18:05:53.312Z"
   },
   {
    "duration": 0,
    "start_time": "2023-11-19T18:05:53.312Z"
   },
   {
    "duration": 108,
    "start_time": "2023-11-19T18:06:20.255Z"
   },
   {
    "duration": 11,
    "start_time": "2023-11-19T18:06:39.582Z"
   },
   {
    "duration": 7,
    "start_time": "2023-11-19T18:06:40.061Z"
   },
   {
    "duration": 495,
    "start_time": "2023-11-19T18:07:06.759Z"
   },
   {
    "duration": 9340,
    "start_time": "2023-11-19T18:07:07.256Z"
   },
   {
    "duration": 458,
    "start_time": "2023-11-19T18:07:16.597Z"
   },
   {
    "duration": 53,
    "start_time": "2023-11-19T18:07:17.057Z"
   },
   {
    "duration": 66,
    "start_time": "2023-11-19T18:07:17.112Z"
   },
   {
    "duration": 8,
    "start_time": "2023-11-19T18:07:17.180Z"
   },
   {
    "duration": 83,
    "start_time": "2023-11-19T18:07:17.189Z"
   },
   {
    "duration": 16,
    "start_time": "2023-11-19T18:07:17.273Z"
   },
   {
    "duration": 21,
    "start_time": "2023-11-19T18:07:17.290Z"
   },
   {
    "duration": 68,
    "start_time": "2023-11-19T18:07:17.313Z"
   },
   {
    "duration": 25,
    "start_time": "2023-11-19T18:07:17.382Z"
   },
   {
    "duration": 75,
    "start_time": "2023-11-19T18:07:17.408Z"
   },
   {
    "duration": 26,
    "start_time": "2023-11-19T18:07:17.484Z"
   },
   {
    "duration": 69,
    "start_time": "2023-11-19T18:07:17.512Z"
   },
   {
    "duration": 7,
    "start_time": "2023-11-19T18:07:17.582Z"
   },
   {
    "duration": 102,
    "start_time": "2023-11-19T18:08:22.653Z"
   },
   {
    "duration": 104,
    "start_time": "2023-11-19T18:08:28.175Z"
   },
   {
    "duration": 18,
    "start_time": "2023-11-19T18:08:39.513Z"
   },
   {
    "duration": 167,
    "start_time": "2023-11-19T18:10:44.154Z"
   },
   {
    "duration": 116,
    "start_time": "2023-11-19T18:13:15.833Z"
   },
   {
    "duration": 242,
    "start_time": "2023-11-19T18:13:36.094Z"
   },
   {
    "duration": 83,
    "start_time": "2023-11-19T18:13:57.593Z"
   },
   {
    "duration": 216,
    "start_time": "2023-11-19T18:14:09.652Z"
   },
   {
    "duration": 70,
    "start_time": "2023-11-19T18:20:16.995Z"
   },
   {
    "duration": 123,
    "start_time": "2023-11-19T18:20:30.615Z"
   },
   {
    "duration": 83,
    "start_time": "2023-11-19T18:21:04.894Z"
   },
   {
    "duration": 70,
    "start_time": "2023-11-19T18:21:14.336Z"
   },
   {
    "duration": 160,
    "start_time": "2023-11-19T18:21:42.715Z"
   },
   {
    "duration": 156,
    "start_time": "2023-11-19T18:23:07.894Z"
   },
   {
    "duration": 157,
    "start_time": "2023-11-19T18:23:32.775Z"
   },
   {
    "duration": 153,
    "start_time": "2023-11-19T18:24:51.675Z"
   },
   {
    "duration": 164,
    "start_time": "2023-11-19T18:24:56.378Z"
   },
   {
    "duration": 77,
    "start_time": "2023-11-19T18:25:18.954Z"
   },
   {
    "duration": 74,
    "start_time": "2023-11-19T18:25:35.535Z"
   },
   {
    "duration": 76,
    "start_time": "2023-11-19T18:25:41.015Z"
   },
   {
    "duration": 72,
    "start_time": "2023-11-19T18:25:52.435Z"
   },
   {
    "duration": 76,
    "start_time": "2023-11-19T18:27:06.358Z"
   },
   {
    "duration": 71,
    "start_time": "2023-11-19T18:27:19.015Z"
   },
   {
    "duration": 70,
    "start_time": "2023-11-19T18:27:46.143Z"
   },
   {
    "duration": 71,
    "start_time": "2023-11-19T18:28:08.416Z"
   },
   {
    "duration": 70,
    "start_time": "2023-11-19T18:30:26.155Z"
   },
   {
    "duration": 74,
    "start_time": "2023-11-19T18:30:54.255Z"
   },
   {
    "duration": 169,
    "start_time": "2023-11-19T18:31:37.983Z"
   },
   {
    "duration": 71,
    "start_time": "2023-11-19T18:31:46.456Z"
   },
   {
    "duration": 112,
    "start_time": "2023-11-19T18:32:27.255Z"
   },
   {
    "duration": 117,
    "start_time": "2023-11-19T18:32:42.616Z"
   },
   {
    "duration": 148,
    "start_time": "2023-11-19T18:33:26.775Z"
   },
   {
    "duration": 73,
    "start_time": "2023-11-19T18:33:39.075Z"
   },
   {
    "duration": 86,
    "start_time": "2023-11-19T18:34:01.695Z"
   },
   {
    "duration": 146,
    "start_time": "2023-11-19T18:34:19.575Z"
   },
   {
    "duration": 182,
    "start_time": "2023-11-19T18:34:43.495Z"
   },
   {
    "duration": 73,
    "start_time": "2023-11-19T18:34:52.515Z"
   },
   {
    "duration": 151,
    "start_time": "2023-11-19T18:34:59.736Z"
   },
   {
    "duration": 174,
    "start_time": "2023-11-19T18:35:15.555Z"
   },
   {
    "duration": 73,
    "start_time": "2023-11-19T18:35:24.416Z"
   },
   {
    "duration": 72,
    "start_time": "2023-11-19T18:35:37.942Z"
   },
   {
    "duration": 73,
    "start_time": "2023-11-19T18:36:03.937Z"
   },
   {
    "duration": 69,
    "start_time": "2023-11-19T18:36:58.955Z"
   },
   {
    "duration": 200,
    "start_time": "2023-11-19T18:38:32.663Z"
   },
   {
    "duration": 70,
    "start_time": "2023-11-19T18:38:41.814Z"
   },
   {
    "duration": 88,
    "start_time": "2023-11-19T18:39:00.715Z"
   },
   {
    "duration": 543,
    "start_time": "2023-11-23T12:58:07.810Z"
   },
   {
    "duration": 10269,
    "start_time": "2023-11-23T12:58:08.355Z"
   },
   {
    "duration": 80,
    "start_time": "2023-11-23T12:58:18.625Z"
   },
   {
    "duration": 57,
    "start_time": "2023-11-23T12:58:18.707Z"
   },
   {
    "duration": 7,
    "start_time": "2023-11-23T12:58:18.766Z"
   },
   {
    "duration": 33,
    "start_time": "2023-11-23T12:58:18.775Z"
   },
   {
    "duration": 30,
    "start_time": "2023-11-23T12:58:18.810Z"
   },
   {
    "duration": 17,
    "start_time": "2023-11-23T12:58:18.842Z"
   },
   {
    "duration": 23,
    "start_time": "2023-11-23T12:58:18.860Z"
   },
   {
    "duration": 10,
    "start_time": "2023-11-23T12:58:18.885Z"
   },
   {
    "duration": 45,
    "start_time": "2023-11-23T12:58:18.896Z"
   },
   {
    "duration": 11,
    "start_time": "2023-11-23T12:58:18.943Z"
   },
   {
    "duration": 22,
    "start_time": "2023-11-23T12:58:18.956Z"
   }
  ],
  "kernelspec": {
   "display_name": "Python 3 (ipykernel)",
   "language": "python",
   "name": "python3"
  },
  "language_info": {
   "codemirror_mode": {
    "name": "ipython",
    "version": 3
   },
   "file_extension": ".py",
   "mimetype": "text/x-python",
   "name": "python",
   "nbconvert_exporter": "python",
   "pygments_lexer": "ipython3",
   "version": "3.9.5"
  },
  "toc": {
   "base_numbering": 1,
   "nav_menu": {},
   "number_sections": true,
   "sideBar": true,
   "skip_h1_title": true,
   "title_cell": "Table of Contents",
   "title_sidebar": "Contents",
   "toc_cell": false,
   "toc_position": {
    "height": "calc(100% - 180px)",
    "left": "10px",
    "top": "150px",
    "width": "254.797px"
   },
   "toc_section_display": true,
   "toc_window_display": false
  }
 },
 "nbformat": 4,
 "nbformat_minor": 5
}
